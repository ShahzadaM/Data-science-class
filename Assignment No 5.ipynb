{
 "cells": [
  {
   "cell_type": "code",
   "execution_count": 22,
   "id": "de462b57",
   "metadata": {},
   "outputs": [
    {
     "name": "stdout",
     "output_type": "stream",
     "text": [
      "55\n",
      "15\n",
      "LCM of two no is 165\n"
     ]
    }
   ],
   "source": [
    "#To find LCM\n",
    "a= int(input())\n",
    "b= int(input())\n",
    "for i in range(1,(a*b)+1):\n",
    "    if i%a== 0 and  i%b == 0:\n",
    "        print(\"LCM of two no is\",i)\n",
    "        break"
   ]
  },
  {
   "cell_type": "code",
   "execution_count": 31,
   "id": "064df38d",
   "metadata": {},
   "outputs": [
    {
     "name": "stdout",
     "output_type": "stream",
     "text": [
      "50\n",
      "20\n",
      "10\n"
     ]
    }
   ],
   "source": [
    "# To find HCF of two numbers\n",
    "num1= int(input())\n",
    "num2= int(input())\n",
    "a = max(num1,num2)\n",
    "b = min(num1,num2)\n",
    "while a%b!=0:\n",
    "    c = a%b\n",
    "    a = b\n",
    "    b = c\n",
    "    print(c)"
   ]
  },
  {
   "cell_type": "code",
   "execution_count": 33,
   "id": "8220582a",
   "metadata": {},
   "outputs": [
    {
     "name": "stdout",
     "output_type": "stream",
     "text": [
      "15\n",
      "20\n"
     ]
    }
   ],
   "source": [
    "# To make simple calculator\n",
    "n1 = int(input())\n",
    "n2 = int(input())\n",
    "sum1 = n1+n2\n",
    "product = n1*n2\n",
    "division = float(n1/n2)\n",
    "sub = n1 - n2"
   ]
  },
  {
   "cell_type": "code",
   "execution_count": 34,
   "id": "1da56a87",
   "metadata": {},
   "outputs": [
    {
     "data": {
      "text/plain": [
       "35"
      ]
     },
     "execution_count": 34,
     "metadata": {},
     "output_type": "execute_result"
    }
   ],
   "source": [
    "sum1"
   ]
  },
  {
   "cell_type": "code",
   "execution_count": 35,
   "id": "67be96cc",
   "metadata": {},
   "outputs": [
    {
     "data": {
      "text/plain": [
       "300"
      ]
     },
     "execution_count": 35,
     "metadata": {},
     "output_type": "execute_result"
    }
   ],
   "source": [
    "product"
   ]
  },
  {
   "cell_type": "code",
   "execution_count": null,
   "id": "36d5cf63",
   "metadata": {},
   "outputs": [],
   "source": []
  }
 ],
 "metadata": {
  "kernelspec": {
   "display_name": "Python 3 (ipykernel)",
   "language": "python",
   "name": "python3"
  },
  "language_info": {
   "codemirror_mode": {
    "name": "ipython",
    "version": 3
   },
   "file_extension": ".py",
   "mimetype": "text/x-python",
   "name": "python",
   "nbconvert_exporter": "python",
   "pygments_lexer": "ipython3",
   "version": "3.9.7"
  }
 },
 "nbformat": 4,
 "nbformat_minor": 5
}
