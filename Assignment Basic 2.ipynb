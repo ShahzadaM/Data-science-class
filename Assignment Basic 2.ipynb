{
 "cells": [
  {
   "cell_type": "code",
   "execution_count": 9,
   "id": "6f5dd993",
   "metadata": {},
   "outputs": [
    {
     "name": "stdout",
     "output_type": "stream",
     "text": [
      "Please Enter distance 10\n",
      "6.21 miles is equal to 10.0 Kms\n"
     ]
    }
   ],
   "source": [
    "# Kms to miles\n",
    "Km = float(input(\"Please Enter distance \"))\n",
    "\n",
    "miles= 0.621* Km\n",
    "print(miles,\"miles is equal to\",Km,\"Kms\")"
   ]
  },
  {
   "cell_type": "code",
   "execution_count": 11,
   "id": "aa0cbddc",
   "metadata": {},
   "outputs": [
    {
     "name": "stdout",
     "output_type": "stream",
     "text": [
      "Enter temp in Celsius 37\n",
      "98.6 F is equal to 37.0 C\n"
     ]
    }
   ],
   "source": [
    "# Celsius to Fahrenheit\n",
    "C = float(input(\"Enter temp in Celsius \"))\n",
    "F= (C*9/5)+32\n",
    "print(F,\"F is equal to\",C,\"C\")"
   ]
  },
  {
   "cell_type": "code",
   "execution_count": 16,
   "id": "e91d4be3",
   "metadata": {},
   "outputs": [
    {
     "name": "stdout",
     "output_type": "stream",
     "text": [
      "    January 1993\n",
      "Mo Tu We Th Fr Sa Su\n",
      "             1  2  3\n",
      " 4  5  6  7  8  9 10\n",
      "11 12 13 14 15 16 17\n",
      "18 19 20 21 22 23 24\n",
      "25 26 27 28 29 30 31\n",
      "\n"
     ]
    }
   ],
   "source": [
    "import calendar\n",
    "print(calendar.month(1993,1))"
   ]
  },
  {
   "cell_type": "code",
   "execution_count": 17,
   "id": "ff3acdbb",
   "metadata": {},
   "outputs": [
    {
     "name": "stdout",
     "output_type": "stream",
     "text": [
      " Value of b is  5\n",
      "Value of a is  10\n"
     ]
    }
   ],
   "source": [
    "# swaping two numbers\n",
    "a= 5\n",
    "b= 10\n",
    "a,b = b,a\n",
    "print(\" Value of b is \",b)\n",
    "print(\"Value of a is \",a)"
   ]
  },
  {
   "cell_type": "code",
   "execution_count": null,
   "id": "a8607528",
   "metadata": {},
   "outputs": [],
   "source": []
  }
 ],
 "metadata": {
  "kernelspec": {
   "display_name": "Python 3 (ipykernel)",
   "language": "python",
   "name": "python3"
  },
  "language_info": {
   "codemirror_mode": {
    "name": "ipython",
    "version": 3
   },
   "file_extension": ".py",
   "mimetype": "text/x-python",
   "name": "python",
   "nbconvert_exporter": "python",
   "pygments_lexer": "ipython3",
   "version": "3.9.7"
  }
 },
 "nbformat": 4,
 "nbformat_minor": 5
}
