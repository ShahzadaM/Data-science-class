{
 "cells": [
  {
   "cell_type": "code",
   "execution_count": 4,
   "id": "4322297f",
   "metadata": {},
   "outputs": [
    {
     "name": "stdout",
     "output_type": "stream",
     "text": [
      "7\n",
      "Factorial of 7 is 5040\n"
     ]
    }
   ],
   "source": [
    "# To find Factorial using recursion \n",
    "n = int(input())\n",
    "z= fact(n)\n",
    "print (\"Factorial of\",n,\"is\",z)\n",
    "\n",
    "def fact(n):\n",
    "    if n == 1:\n",
    "        return 1\n",
    "    else:\n",
    "        return n* fact(n-1)\n",
    "\n",
    "    "
   ]
  },
  {
   "cell_type": "code",
   "execution_count": 3,
   "id": "8d08a851",
   "metadata": {},
   "outputs": [
    {
     "name": "stdout",
     "output_type": "stream",
     "text": [
      "15\n",
      "0\n",
      "1\n",
      "1\n",
      "2\n",
      "3\n",
      "5\n",
      "8\n",
      "13\n",
      "21\n",
      "34\n",
      "55\n",
      "89\n",
      "144\n",
      "233\n",
      "377\n"
     ]
    }
   ],
   "source": [
    "n = int(input())\n",
    "for i in range(1,n+1):\n",
    "    print(fibo(i))\n",
    "\n",
    "def fibo(n):\n",
    "    if n == 1:\n",
    "        return 0\n",
    "    if n == 2:\n",
    "        return 1\n",
    "    return fibo(n-1)+ fibo(n-2)\n",
    "\n"
   ]
  },
  {
   "cell_type": "code",
   "execution_count": 9,
   "id": "46871804",
   "metadata": {},
   "outputs": [
    {
     "name": "stdout",
     "output_type": "stream",
     "text": [
      "Enter your weight in Kgs 85\n",
      "Enter your height in cms 177\n",
      "weight in Kgs is 85\n",
      "height in cms is 177\n",
      "BMI is  27.131411790992374\n"
     ]
    }
   ],
   "source": [
    "#To calculate BMI\n",
    "weight = int(input(\"Enter your weight in Kgs \"))\n",
    "height = int(input(\"Enter your height in cms \"))\n",
    "print(\"weight in Kgs is\", weight)\n",
    "print(\"height in cms is\", height)\n",
    "BMI = (weight/ (height**2))*10000\n",
    "print(\"BMI is \", BMI)"
   ]
  },
  {
   "cell_type": "code",
   "execution_count": 13,
   "id": "a4c12829",
   "metadata": {},
   "outputs": [
    {
     "name": "stdout",
     "output_type": "stream",
     "text": [
      "Enter the number5\n",
      "Sum of cube of numbers is  225\n"
     ]
    }
   ],
   "source": [
    "# To find sum of cube of natural no\n",
    "c = int(input(\"Enter the number\"))\n",
    "sum = 0\n",
    "for i in range(1,c+1):\n",
    "    sum = sum + i**3\n",
    "print(\"Sum of cube of numbers is \", sum)\n",
    "    \n",
    "    \n",
    "    "
   ]
  },
  {
   "cell_type": "code",
   "execution_count": null,
   "id": "63203e84",
   "metadata": {},
   "outputs": [],
   "source": []
  }
 ],
 "metadata": {
  "kernelspec": {
   "display_name": "Python 3 (ipykernel)",
   "language": "python",
   "name": "python3"
  },
  "language_info": {
   "codemirror_mode": {
    "name": "ipython",
    "version": 3
   },
   "file_extension": ".py",
   "mimetype": "text/x-python",
   "name": "python",
   "nbconvert_exporter": "python",
   "pygments_lexer": "ipython3",
   "version": "3.9.7"
  }
 },
 "nbformat": 4,
 "nbformat_minor": 5
}
