{
 "cells": [
  {
   "cell_type": "code",
   "execution_count": 4,
   "id": "9b7e5c6c",
   "metadata": {},
   "outputs": [
    {
     "name": "stdout",
     "output_type": "stream",
     "text": [
      "-8\n",
      "-8.0 is a negative number\n"
     ]
    }
   ],
   "source": [
    "# To check for Positive and negative number\n",
    "a = float(input())\n",
    "if a>0:\n",
    "    print(a, \"is a positive number\")\n",
    "elif a<0:\n",
    "    print(a, \"is a negative number\")\n",
    "else:\n",
    "    print(\"zero\")"
   ]
  },
  {
   "cell_type": "code",
   "execution_count": 10,
   "id": "2470553a",
   "metadata": {},
   "outputs": [
    {
     "name": "stdout",
     "output_type": "stream",
     "text": [
      "47\n",
      "Odd number\n"
     ]
    }
   ],
   "source": [
    "# To check for odd and even\n",
    "b = int(input())\n",
    "if b%2 == 1:\n",
    "    print(\"Odd number\")\n",
    "else:\n",
    "    print(\"Even number\")"
   ]
  },
  {
   "cell_type": "code",
   "execution_count": 15,
   "id": "a6742cf5",
   "metadata": {},
   "outputs": [
    {
     "name": "stdout",
     "output_type": "stream",
     "text": [
      "2026\n",
      "Not a leap year\n"
     ]
    }
   ],
   "source": [
    "# To check for Leap year\n",
    "year = int(input())\n",
    "if year% 4 !=0:\n",
    "    print(\"Not a leap year\")\n",
    "else:\n",
    "    print(\"Leap year\")"
   ]
  },
  {
   "cell_type": "code",
   "execution_count": 24,
   "id": "efe31448",
   "metadata": {},
   "outputs": [
    {
     "name": "stdout",
     "output_type": "stream",
     "text": [
      "7\n",
      "Prime number\n"
     ]
    }
   ],
   "source": [
    "# To check for prime numbers\n",
    "no = int(input())\n",
    "for i in range(2,no):\n",
    "    if (no % i == 0):\n",
    "        print(\"Not a prime\")\n",
    "        break\n",
    "else:\n",
    "    print(\"Prime number\")\n",
    "    "
   ]
  },
  {
   "cell_type": "code",
   "execution_count": null,
   "id": "6a0b946d",
   "metadata": {},
   "outputs": [],
   "source": [
    "# tp print prime number between 1-10000\n"
   ]
  }
 ],
 "metadata": {
  "kernelspec": {
   "display_name": "Python 3 (ipykernel)",
   "language": "python",
   "name": "python3"
  },
  "language_info": {
   "codemirror_mode": {
    "name": "ipython",
    "version": 3
   },
   "file_extension": ".py",
   "mimetype": "text/x-python",
   "name": "python",
   "nbconvert_exporter": "python",
   "pygments_lexer": "ipython3",
   "version": "3.9.7"
  }
 },
 "nbformat": 4,
 "nbformat_minor": 5
}
