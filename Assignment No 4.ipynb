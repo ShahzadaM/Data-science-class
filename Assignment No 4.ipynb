{
 "cells": [
  {
   "cell_type": "code",
   "execution_count": 2,
   "id": "435b02cb",
   "metadata": {},
   "outputs": [
    {
     "name": "stdout",
     "output_type": "stream",
     "text": [
      "7\n",
      "factorial of number is 5040\n"
     ]
    }
   ],
   "source": [
    "#To display factorial of numbers\n",
    "a = int(input())\n",
    "Fact = 1\n",
    "while a>0:\n",
    "    Fact = Fact * a\n",
    "    a = a-1\n",
    "print(\"factorial of number is\", Fact)"
   ]
  },
  {
   "cell_type": "code",
   "execution_count": 5,
   "id": "febf08ab",
   "metadata": {},
   "outputs": [
    {
     "name": "stdout",
     "output_type": "stream",
     "text": [
      "5\n",
      "5 * 1 = 5\n",
      "5 * 2 = 10\n",
      "5 * 3 = 15\n",
      "5 * 4 = 20\n",
      "5 * 5 = 25\n",
      "5 * 6 = 30\n",
      "5 * 7 = 35\n",
      "5 * 8 = 40\n",
      "5 * 9 = 45\n",
      "5 * 10 = 50\n"
     ]
    }
   ],
   "source": [
    "#To display multiplication table\n",
    "b = int(input())\n",
    "for i in range(1,11):\n",
    "    print(b, \"*\" ,i,\"=\",b*i)"
   ]
  },
  {
   "cell_type": "code",
   "execution_count": 18,
   "id": "8cc2e0d8",
   "metadata": {},
   "outputs": [
    {
     "name": "stdout",
     "output_type": "stream",
     "text": [
      "1\n",
      "0\n",
      "1\n"
     ]
    }
   ],
   "source": [
    "# To display Fibonnaci series\n",
    "c = int(input())\n",
    "a=0\n",
    "b=1\n",
    "if c == 1:\n",
    "    print(a)\n",
    "    print(b)\n",
    "else:\n",
    "    print(a)\n",
    "    print(b)\n",
    "    \n",
    "    for i in range(2,c+1):\n",
    "        c = a+b\n",
    "        a,b = b,c\n",
    "        print(c)\n",
    "  "
   ]
  },
  {
   "cell_type": "code",
   "execution_count": 33,
   "id": "6a8da700",
   "metadata": {},
   "outputs": [
    {
     "name": "stdout",
     "output_type": "stream",
     "text": [
      "346\n",
      "Not Amstrong no\n"
     ]
    }
   ],
   "source": [
    "# To check amstrong number\n",
    "num = int(input())\n",
    "temp = num\n",
    "sum = 0\n",
    "while temp>0:\n",
    "    a = temp%10\n",
    "    sum = sum+ a**3\n",
    "    temp = temp//10\n",
    "    \n",
    "if num == sum:\n",
    "    print(\"Amstrong no\")\n",
    "else:\n",
    "    print(\"Not Amstrong no\")\n"
   ]
  },
  {
   "cell_type": "code",
   "execution_count": 66,
   "id": "cc71e940",
   "metadata": {},
   "outputs": [],
   "source": [
    "# Find amsrong number in range\n",
    "for num in range(100,2000):\n",
    "    temp = num\n",
    "    while temp>0:\n",
    "        a = temp%10\n",
    "        sum = sum+ a**3\n",
    "        temp = temp//10\n",
    "        if num == sum:\n",
    "            print(num)\n",
    "    # This code is not showing any output can you please help    \n",
    "    \n",
    "       "
   ]
  },
  {
   "cell_type": "code",
   "execution_count": 69,
   "id": "dad24978",
   "metadata": {},
   "outputs": [
    {
     "name": "stdout",
     "output_type": "stream",
     "text": [
      "10\n",
      "Sum of First 10 numbers is 55.0\n"
     ]
    }
   ],
   "source": [
    " # Sum of n natural numbers\n",
    "no = int(input())\n",
    "sum = (no*(no+1))/2\n",
    "print('Sum of First', no,\"numbers is\", sum)\n",
    "    "
   ]
  },
  {
   "cell_type": "code",
   "execution_count": null,
   "id": "8cd41ee3",
   "metadata": {},
   "outputs": [],
   "source": []
  }
 ],
 "metadata": {
  "kernelspec": {
   "display_name": "Python 3 (ipykernel)",
   "language": "python",
   "name": "python3"
  },
  "language_info": {
   "codemirror_mode": {
    "name": "ipython",
    "version": 3
   },
   "file_extension": ".py",
   "mimetype": "text/x-python",
   "name": "python",
   "nbconvert_exporter": "python",
   "pygments_lexer": "ipython3",
   "version": "3.9.7"
  }
 },
 "nbformat": 4,
 "nbformat_minor": 5
}
